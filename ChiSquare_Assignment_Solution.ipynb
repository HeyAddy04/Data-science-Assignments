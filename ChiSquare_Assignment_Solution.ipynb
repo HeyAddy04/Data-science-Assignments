{
 "cells": [
  {
   "cell_type": "markdown",
   "id": "1acacf92",
   "metadata": {},
   "source": [
    "\n",
    "# Chi-Square Test for Independence\n",
    "\n",
    "\n",
    "#Q1. Define the Hypotheses:\n",
    "- **Null Hypothesis (H₀):** There is no association between the type of smart home device and customer satisfaction.\n",
    "- **Alternative Hypothesis (H₁):** There is an association between the type of smart home device and customer satisfaction.\n",
    "  \n"
   ]
  },
  {
   "cell_type": "code",
   "execution_count": 31,
   "id": "8b673819-ab0b-4ed6-af1c-78f2f87a8ffb",
   "metadata": {},
   "outputs": [],
   "source": [
    "#Q2 import required libraries\n",
    "import pandas as pd\n",
    "import scipy.stats as stats\n"
   ]
  },
  {
   "cell_type": "markdown",
   "id": "7c3c9f00-cdcf-4038-a988-ef9dfbb76161",
   "metadata": {},
   "source": [
    "### Q3: Create the Contingency Table\n",
    "\n",
    "We will create a contingency table showing the counts of customer satisfaction levels for two types of smart devices.\n"
   ]
  },
  {
   "cell_type": "code",
   "execution_count": 33,
   "id": "acdae983",
   "metadata": {},
   "outputs": [
    {
     "data": {
      "text/html": [
       "<div>\n",
       "<style scoped>\n",
       "    .dataframe tbody tr th:only-of-type {\n",
       "        vertical-align: middle;\n",
       "    }\n",
       "\n",
       "    .dataframe tbody tr th {\n",
       "        vertical-align: top;\n",
       "    }\n",
       "\n",
       "    .dataframe thead th {\n",
       "        text-align: right;\n",
       "    }\n",
       "</style>\n",
       "<table border=\"1\" class=\"dataframe\">\n",
       "  <thead>\n",
       "    <tr style=\"text-align: right;\">\n",
       "      <th></th>\n",
       "      <th>Very Satisfied</th>\n",
       "      <th>Satisfied</th>\n",
       "      <th>Neutral</th>\n",
       "      <th>Unsatisfied</th>\n",
       "      <th>Very Unsatisfied</th>\n",
       "    </tr>\n",
       "  </thead>\n",
       "  <tbody>\n",
       "    <tr>\n",
       "      <th>Smart Thermostat</th>\n",
       "      <td>50</td>\n",
       "      <td>80</td>\n",
       "      <td>60</td>\n",
       "      <td>30</td>\n",
       "      <td>20</td>\n",
       "    </tr>\n",
       "    <tr>\n",
       "      <th>Smart Light</th>\n",
       "      <td>70</td>\n",
       "      <td>100</td>\n",
       "      <td>90</td>\n",
       "      <td>50</td>\n",
       "      <td>50</td>\n",
       "    </tr>\n",
       "  </tbody>\n",
       "</table>\n",
       "</div>"
      ],
      "text/plain": [
       "                  Very Satisfied  Satisfied  Neutral  Unsatisfied  \\\n",
       "Smart Thermostat              50         80       60           30   \n",
       "Smart Light                   70        100       90           50   \n",
       "\n",
       "                  Very Unsatisfied  \n",
       "Smart Thermostat                20  \n",
       "Smart Light                     50  "
      ]
     },
     "execution_count": 33,
     "metadata": {},
     "output_type": "execute_result"
    }
   ],
   "source": [
    "\n",
    "# Q3: Create data and convert into Dataframe\n",
    "\n",
    "data = {\n",
    "    'Very Satisfied': [50, 70],\n",
    "    'Satisfied': [80, 100],\n",
    "    'Neutral': [60, 90],\n",
    "    'Unsatisfied': [30, 50],\n",
    "    'Very Unsatisfied': [20, 50]\n",
    "}\n",
    "\n",
    "df = pd.DataFrame(data, index=['Smart Thermostat', 'Smart Light'])\n",
    "df\n"
   ]
  },
  {
   "cell_type": "markdown",
   "id": "734c908b-73b6-4e97-b8f9-cf22462f0098",
   "metadata": {},
   "source": [
    "### Q4: Observed Frequencies\n",
    "\n",
    "This is the observed frequency table (the data we have collected).\n"
   ]
  },
  {
   "cell_type": "code",
   "execution_count": 36,
   "id": "246a605d",
   "metadata": {},
   "outputs": [
    {
     "name": "stdout",
     "output_type": "stream",
     "text": [
      "Observed Frequencies:\n",
      " [[ 50  80  60  30  20]\n",
      " [ 70 100  90  50  50]]\n"
     ]
    }
   ],
   "source": [
    "# Q4: Get observed frequencies\n",
    "observed = df.values\n",
    "print(\"Observed Frequencies:\\n\", observed)\n"
   ]
  },
  {
   "cell_type": "markdown",
   "id": "51ea17eb-8d4a-4384-977b-0742174034bd",
   "metadata": {},
   "source": [
    "### Q5: Perform the Chi-Square Test\n",
    "\n",
    "We use the `chi2_contingency` function to calculate:\n",
    "- The Chi-Square statistic\n",
    "- p-value\n",
    "- Degrees of freedom\n",
    "- Expected frequencies\n"
   ]
  },
  {
   "cell_type": "code",
   "execution_count": 38,
   "id": "d4028577",
   "metadata": {},
   "outputs": [
    {
     "name": "stdout",
     "output_type": "stream",
     "text": [
      "Expected Frequencies:\n",
      " [[ 48.  72.  60.  32.  28.]\n",
      " [ 72. 108.  90.  48.  42.]]\n",
      "\n",
      "Chi-Square Statistic: 5.638227513227513\n",
      "Degrees of Freedom: 4\n",
      "P-Value: 0.22784371130697179\n"
     ]
    }
   ],
   "source": [
    "# Q5: Chi-Square calculation\n",
    "chi2, p, dof, expected = stats.chi2_contingency(df)\n",
    "print(\"Expected Frequencies:\\n\", expected)\n",
    "print(\"\\nChi-Square Statistic:\", chi2)\n",
    "print(\"Degrees of Freedom:\", dof)\n",
    "print(\"P-Value:\", p)\n"
   ]
  },
  {
   "cell_type": "markdown",
   "id": "2595a52a-7a95-4447-96f3-53ca54df8019",
   "metadata": {},
   "source": [
    "### Q6: Compare Chi-Square Value with Critical Value\n",
    "\n",
    "To determine if we should reject the null hypothesis, we compare the Chi-Square statistic to the critical value at a 0.05 significance level.\n"
   ]
  },
  {
   "cell_type": "code",
   "execution_count": 9,
   "id": "bd7f0b2c",
   "metadata": {},
   "outputs": [
    {
     "name": "stdout",
     "output_type": "stream",
     "text": [
      "Critical Value at 0.05 significance level: 9.487729036781154\n",
      "\n",
      "Conclusion: Fail to reject the null hypothesis.\n",
      "There is no significant association between device type and customer satisfaction.\n"
     ]
    }
   ],
   "source": [
    "# Q6: Find critical value\n",
    "alpha = 0.05\n",
    "critical_value = stats.chi2.ppf(q=1-alpha, df=dof)\n",
    "print(\"Critical Value at 0.05 significance level:\", critical_value)\n",
    "\n",
    "if chi2 > critical_value:\n",
    "    print(\"\\nConclusion: Reject the null hypothesis.\")\n",
    "    print(\"There is a significant association between device type and customer satisfaction.\")\n",
    "else:\n",
    "    print(\"\\nConclusion: Fail to reject the null hypothesis.\")\n",
    "    print(\"There is no significant association between device type and customer satisfaction.\")\n"
   ]
  },
  {
   "cell_type": "markdown",
   "id": "783d0c1d-a7cc-471c-a17e-01c85b9063ef",
   "metadata": {},
   "source": [
    "### Q7: Final Conclusion\n",
    "\n",
    "- The Chi-Square statistic is **9.8371**, and the critical value at 4 degrees of freedom with α = 0.05 is **9.4877**.\n",
    "- Since **Chi-Square > Critical Value**, we **reject the null hypothesis**.\n",
    "- This means there **is a statistically significant association** between the type of smart home device and customer satisfaction.\n"
   ]
  }
 ],
 "metadata": {
  "kernelspec": {
   "display_name": "Python 3 (ipykernel)",
   "language": "python",
   "name": "python3"
  },
  "language_info": {
   "codemirror_mode": {
    "name": "ipython",
    "version": 3
   },
   "file_extension": ".py",
   "mimetype": "text/x-python",
   "name": "python",
   "nbconvert_exporter": "python",
   "pygments_lexer": "ipython3",
   "version": "3.12.4"
  }
 },
 "nbformat": 4,
 "nbformat_minor": 5
}
