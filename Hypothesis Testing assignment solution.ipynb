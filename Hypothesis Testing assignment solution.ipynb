{
 "cells": [
  {
   "cell_type": "markdown",
   "id": "544bf7c3-7b72-409b-8828-3af55e44f065",
   "metadata": {},
   "source": [
    "### Q1: Hypotheses\n",
    "\n",
    "- **Null Hypothesis (H₀):** The weekly operating cost is not higher than the model suggests (i.e., cost = ₹4,000).\n",
    "- **Alternative Hypothesis (H₁):** The weekly operating cost is higher than the model suggests (i.e., cost > ₹4,000).\n",
    "\n",
    "We are testing whether the observed cost (₹4,050) is significantly higher than the model cost.\n"
   ]
  },
  {
   "cell_type": "markdown",
   "id": "b885e304-74e8-403e-a377-c904c26397e2",
   "metadata": {},
   "source": [
    "### Q2: Calculate the Test Statistic\n",
    "\n",
    "Given:\n",
    "\n",
    "- Sample Mean (𝑥̄) = ₹3,050  \n",
    "- Model: W = 1000 + 5X  \n",
    "- For X = 600 ⇒ Theoretical mean cost (μ) = 1000 + 5×600 = ₹4,000  \n",
    "- Standard deviation of cost (σ) = 5 × 25 = ₹125  \n",
    "- Sample size (n) = 25  \n",
    "\n",
    "We use the Z-test since population std dev is known and data is normally distributed:\n",
    "\n",
    "\\[\n",
    "Z = \\frac{\\bar{x} - \\mu}{\\frac{\\sigma}{\\sqrt{n}}}\n",
    "\\]\n"
   ]
  },
  {
   "cell_type": "code",
   "execution_count": 27,
   "id": "282bb3eb-40b6-4936-93b4-d03cfd55e87f",
   "metadata": {},
   "outputs": [
    {
     "name": "stdout",
     "output_type": "stream",
     "text": [
      "Z-Test Statistic: -38.0\n"
     ]
    }
   ],
   "source": [
    "# Q2: Calculate Test Statistic\n",
    "sample_mean = 3050\n",
    "mu = 1000 + 5 * 600  # Theoretical mean = ₹4,000\n",
    "sigma = 5 * 25       # Std deviation = ₹125\n",
    "n = 25\n",
    "\n",
    "# Z-Test calculation\n",
    "z = (sample_mean - mu) / (sigma / (n**0.5))\n",
    "print(\"Z-Test Statistic:\", z)\n"
   ]
  },
  {
   "cell_type": "markdown",
   "id": "ed5e326a-269d-4afd-b84b-2cd80073a6e8",
   "metadata": {},
   "source": [
    "### Q3: Critical Value\n",
    "\n",
    "For a one-tailed Z-test at α = 0.05, the critical Z value from the Z-table is:\n",
    "\n",
    "\\[\n",
    "Z_{critical} = 1.645\n",
    "\\]\n"
   ]
  },
  {
   "cell_type": "code",
   "execution_count": 24,
   "id": "60d4ce39-98cd-4620-b097-c29e214a48ed",
   "metadata": {},
   "outputs": [
    {
     "name": "stdout",
     "output_type": "stream",
     "text": [
      "Critical Z-Value at 5% significance: 1.6448536269514722\n"
     ]
    }
   ],
   "source": [
    "# Q3: Get critical value\n",
    "from scipy.stats import norm\n",
    "\n",
    "alpha = 0.05\n",
    "z_critical = norm.ppf(1 - alpha)\n",
    "print(\"Critical Z-Value at 5% significance:\", z_critical)\n"
   ]
  },
  {
   "cell_type": "markdown",
   "id": "08926756-c240-41ab-965e-47e3934fbad5",
   "metadata": {},
   "source": [
    "### Q4: Decision Rule\n",
    "\n",
    "- If Z > Z_critical → Reject H₀\n",
    "- If Z ≤ Z_critical → Fail to reject H₀\n",
    "\n",
    "Let’s compare and make the decision.\n"
   ]
  },
  {
   "cell_type": "code",
   "execution_count": 21,
   "id": "aa3e483c-e57b-4f00-8926-286b6cfb68ee",
   "metadata": {},
   "outputs": [
    {
     "name": "stdout",
     "output_type": "stream",
     "text": [
      "❌ Z is not greater than Z-critical → Fail to reject the null hypothesis.\n"
     ]
    }
   ],
   "source": [
    "if z > z_critical:\n",
    "    print(\"✅ Z is greater than Z-critical → Reject the null hypothesis.\")\n",
    "else:\n",
    "    print(\"❌ Z is not greater than Z-critical → Fail to reject the null hypothesis.\")\n"
   ]
  },
  {
   "cell_type": "markdown",
   "id": "262e82be-f056-4701-ad49-56858cd9793f",
   "metadata": {},
   "source": [
    "### Q5: Conclusion\n",
    "\n",
    "Since the Z-test statistic is less than the critical value (expected as Z ≈ -3.0), we **fail to reject the null hypothesis**.\n",
    "\n",
    " **Conclusion**: There is **not enough evidence** to support the restaurant owners’ claim that the weekly operating cost is higher than predicted by the model.\n"
   ]
  },
  {
   "cell_type": "code",
   "execution_count": null,
   "id": "e51b202e-de89-422a-a082-a16f834e6f40",
   "metadata": {},
   "outputs": [],
   "source": []
  }
 ],
 "metadata": {
  "kernelspec": {
   "display_name": "Python 3 (ipykernel)",
   "language": "python",
   "name": "python3"
  },
  "language_info": {
   "codemirror_mode": {
    "name": "ipython",
    "version": 3
   },
   "file_extension": ".py",
   "mimetype": "text/x-python",
   "name": "python",
   "nbconvert_exporter": "python",
   "pygments_lexer": "ipython3",
   "version": "3.12.4"
  }
 },
 "nbformat": 4,
 "nbformat_minor": 5
}
