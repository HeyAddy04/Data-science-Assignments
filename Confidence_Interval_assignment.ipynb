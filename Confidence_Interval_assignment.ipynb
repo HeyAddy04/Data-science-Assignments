{
  "nbformat": 4,
  "nbformat_minor": 0,
  "metadata": {
    "colab": {
      "provenance": []
    },
    "kernelspec": {
      "name": "python3",
      "display_name": "Python 3"
    },
    "language_info": {
      "name": "python"
    }
  },
  "cells": [
    {
      "cell_type": "code",
      "execution_count": 1,
      "metadata": {
        "colab": {
          "base_uri": "https://localhost:8080/"
        },
        "id": "QOLmTQZ-6j63",
        "outputId": "7c53c01a-6de0-4667-cda6-e85d25a4ea7e"
      },
      "outputs": [
        {
          "output_type": "execute_result",
          "data": {
            "text/plain": [
              "(np.float64(1.2386666666666666), np.float64(0.19316412956959936), 15)"
            ]
          },
          "metadata": {},
          "execution_count": 1
        }
      ],
      "source": [
        "import numpy as np\n",
        "\n",
        "# Durability data in millions of characters\n",
        "durability = [1.13, 1.55, 1.43, 0.92, 1.25, 1.36, 1.32, 0.85, 1.07, 1.48, 1.20, 1.33, 1.18, 1.22, 1.29]\n",
        "\n",
        "# Convert to numpy array for calculations\n",
        "data = np.array(durability)\n",
        "\n",
        "# Basic statistics\n",
        "n = len(data)\n",
        "sample_mean = np.mean(data)\n",
        "sample_std = np.std(data, ddof=1)  # sample standard deviation\n",
        "sample_mean, sample_std, n\n"
      ]
    },
    {
      "cell_type": "code",
      "source": [
        "from scipy import stats\n",
        "\n",
        "# Degrees of freedom\n",
        "df = n - 1\n",
        "\n",
        "# t critical value for 99% confidence\n",
        "t_critical = stats.t.ppf(0.995, df)\n",
        "\n",
        "# Margin of error\n",
        "margin_error_t = t_critical * (sample_std / np.sqrt(n))\n",
        "\n",
        "# Confidence Interval\n",
        "ci_lower_t = sample_mean - margin_error_t\n",
        "ci_upper_t = sample_mean + margin_error_t\n",
        "\n",
        "(ci_lower_t, ci_upper_t)\n"
      ],
      "metadata": {
        "colab": {
          "base_uri": "https://localhost:8080/"
        },
        "id": "IrAxRqMX61ux",
        "outputId": "f8294fda-ea41-4429-b26c-f3487a641d70"
      },
      "execution_count": 2,
      "outputs": [
        {
          "output_type": "execute_result",
          "data": {
            "text/plain": [
              "(np.float64(1.0901973384384906), np.float64(1.3871359948948425))"
            ]
          },
          "metadata": {},
          "execution_count": 2
        }
      ]
    },
    {
      "cell_type": "markdown",
      "source": [
        "# 99% Confidence Interval using Sample Standard Deviation\n",
        "\n",
        "Since the population standard deviation is unknown and the sample size is small (n=15), we use the **t-distribution**.\n",
        "\n",
        "- Sample Mean = 𝑥̄\n",
        "- Sample Std Dev = s\n",
        "- Degrees of freedom (df) = n - 1\n",
        "- Margin of Error = 𝑡(α/2) × (s / √n)\n",
        "\n",
        "The resulting 99% confidence interval gives us a range in which the **true mean durability** is expected to fall with 99% confidence.\n"
      ],
      "metadata": {
        "id": "SykRDz4d7N7r"
      }
    },
    {
      "cell_type": "code",
      "source": [
        "# Known population std deviation\n",
        "pop_std = 0.2\n",
        "\n",
        "# z critical value for 99% confidence\n",
        "z_critical = stats.norm.ppf(0.995)\n",
        "\n",
        "# Margin of error\n",
        "margin_error_z = z_critical * (pop_std / np.sqrt(n))\n",
        "\n",
        "# Confidence Interval\n",
        "ci_lower_z = sample_mean - margin_error_z\n",
        "ci_upper_z = sample_mean + margin_error_z\n",
        "\n",
        "(ci_lower_z, ci_upper_z)\n"
      ],
      "metadata": {
        "colab": {
          "base_uri": "https://localhost:8080/"
        },
        "id": "nPvi-8oe7Fql",
        "outputId": "4d0c3b1e-e17c-4083-9375-49d7dadb55fb"
      },
      "execution_count": 3,
      "outputs": [
        {
          "output_type": "execute_result",
          "data": {
            "text/plain": [
              "(np.float64(1.1056514133957607), np.float64(1.3716819199375725))"
            ]
          },
          "metadata": {},
          "execution_count": 3
        }
      ]
    },
    {
      "cell_type": "markdown",
      "source": [
        "#99% Confidence Interval using Known Population Standard Deviation\n",
        "\n",
        "When the **population standard deviation (σ)** is known, we use the **z-distribution**:\n",
        "\n",
        "- Margin of Error = 𝑧(α/2) × (σ / √n)\n",
        "\n",
        "This method is more precise and assumes prior knowledge of the population's variability. The confidence interval gives the range in which the true mean durability lies with 99% confidence.\n"
      ],
      "metadata": {
        "id": "tSuib9D57nbJ"
      }
    },
    {
      "cell_type": "code",
      "source": [],
      "metadata": {
        "id": "PRQYqkDt7g_P"
      },
      "execution_count": null,
      "outputs": []
    }
  ]
}